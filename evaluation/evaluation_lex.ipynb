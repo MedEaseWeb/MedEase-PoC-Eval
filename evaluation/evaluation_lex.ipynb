{
 "cells": [
  {
   "cell_type": "code",
   "execution_count": 3,
   "id": "ce2055d1",
   "metadata": {},
   "outputs": [],
   "source": [
    "import os\n",
    "import sys\n",
    "import json\n",
    "from pathlib import Path\n",
    "\n",
    "# Set up paths\n",
    "project_root = Path(os.getcwd()).parent\n",
    "model_path = project_root / \"pipelines\" / \"lm_model_classes\"\n",
    "data_path = project_root / \"preprocessing\" / \"500_pairs.json\"\n",
    "output_path = Path(\"results/lexical_results.json\")\n",
    "output_path.parent.mkdir(parents=True, exist_ok=True)\n",
    "\n",
    "# Add model folder to sys.path\n",
    "sys.path.append(str(model_path))\n",
    "\n",
    "# Now import model classes\n",
    "from GPT4oAPI import GPT4oAPI\n",
    "from DeepSeekChatAPI import DeepSeekChatAPI\n"
   ]
  },
  {
   "cell_type": "code",
   "execution_count": 4,
   "id": "aa86d89b",
   "metadata": {},
   "outputs": [
    {
     "name": "stdout",
     "output_type": "stream",
     "text": [
      "Loaded 500 source entries.\n"
     ]
    }
   ],
   "source": [
    "with open(data_path, \"r\") as f:\n",
    "    raw_data = json.load(f)\n",
    "\n",
    "texts = [entry[\"source\"] for entry in raw_data]\n",
    "print(f\"Loaded {len(texts)} source entries.\")"
   ]
  },
  {
   "cell_type": "code",
   "execution_count": 7,
   "id": "d24efea6",
   "metadata": {},
   "outputs": [
    {
     "name": "stdout",
     "output_type": "stream",
     "text": [
      "Processing 1/100...\n",
      "Processing 2/100...\n",
      "Processing 3/100...\n",
      "Processing 4/100...\n",
      "Processing 5/100...\n",
      "Processing 6/100...\n",
      "Processing 7/100...\n",
      "Processing 8/100...\n",
      "Processing 9/100...\n",
      "Processing 10/100...\n",
      "Processing 11/100...\n",
      "Processing 12/100...\n",
      "Processing 13/100...\n",
      "Processing 14/100...\n",
      "Processing 15/100...\n",
      "Processing 16/100...\n",
      "Processing 17/100...\n",
      "Processing 18/100...\n",
      "Processing 19/100...\n",
      "Processing 20/100...\n",
      "Processing 21/100...\n",
      "Processing 22/100...\n",
      "Processing 23/100...\n",
      "Processing 24/100...\n",
      "Processing 25/100...\n",
      "Processing 26/100...\n",
      "Processing 27/100...\n",
      "Processing 28/100...\n",
      "Processing 29/100...\n",
      "Processing 30/100...\n",
      "Processing 31/100...\n",
      "Processing 32/100...\n",
      "Processing 33/100...\n",
      "Processing 34/100...\n",
      "Processing 35/100...\n",
      "Processing 36/100...\n",
      "Processing 37/100...\n",
      "Processing 38/100...\n",
      "Processing 39/100...\n",
      "Processing 40/100...\n",
      "Processing 41/100...\n",
      "Processing 42/100...\n",
      "Processing 43/100...\n",
      "Processing 44/100...\n",
      "Processing 45/100...\n",
      "Processing 46/100...\n",
      "Processing 47/100...\n",
      "Processing 48/100...\n",
      "Processing 49/100...\n",
      "Processing 50/100...\n",
      "Processing 51/100...\n",
      "Processing 52/100...\n",
      "Processing 53/100...\n",
      "Processing 54/100...\n",
      "Processing 55/100...\n",
      "Processing 56/100...\n",
      "Processing 57/100...\n",
      "Processing 58/100...\n",
      "Processing 59/100...\n",
      "Processing 60/100...\n",
      "Processing 61/100...\n",
      "Processing 62/100...\n",
      "Processing 63/100...\n",
      "Processing 64/100...\n",
      "Processing 65/100...\n",
      "Processing 66/100...\n",
      "Processing 67/100...\n",
      "Processing 68/100...\n",
      "Processing 69/100...\n",
      "Processing 70/100...\n",
      "Processing 71/100...\n",
      "Processing 72/100...\n",
      "Processing 73/100...\n",
      "Processing 74/100...\n",
      "Processing 75/100...\n",
      "Processing 76/100...\n",
      "Processing 77/100...\n",
      "Processing 78/100...\n",
      "Processing 79/100...\n",
      "Processing 80/100...\n",
      "Processing 81/100...\n",
      "Processing 82/100...\n",
      "Processing 83/100...\n",
      "Processing 84/100...\n",
      "Processing 85/100...\n",
      "Processing 86/100...\n",
      "Processing 87/100...\n",
      "Processing 88/100...\n",
      "Processing 89/100...\n",
      "Processing 90/100...\n",
      "Processing 91/100...\n",
      "Processing 92/100...\n",
      "Processing 93/100...\n",
      "Processing 94/100...\n",
      "Processing 95/100...\n",
      "Processing 96/100...\n",
      "Processing 97/100...\n",
      "Processing 98/100...\n",
      "Processing 99/100...\n",
      "Processing 100/100...\n"
     ]
    }
   ],
   "source": [
    "# Initialize models\n",
    "gpt4o = GPT4oAPI()\n",
    "deepseek = DeepSeekChatAPI()\n",
    "\n",
    "sample_size = 100\n",
    "results = []\n",
    "\n",
    "for i, text in enumerate(texts[:sample_size]):\n",
    "    print(f\"Processing {i + 1}/{sample_size}...\")\n",
    "    result = {\n",
    "        \"index\": i,\n",
    "        \"source\": text,\n",
    "        \"gpt4o\": gpt4o.lexical_simplification(text),\n",
    "        \"deepseek\": deepseek.lexical_simplification(text)\n",
    "    }\n",
    "    results.append(result)"
   ]
  },
  {
   "cell_type": "code",
   "execution_count": 9,
   "id": "c3b8c09c",
   "metadata": {},
   "outputs": [
    {
     "name": "stdout",
     "output_type": "stream",
     "text": [
      "Saved lexical simplification results to /Users/rolf/Desktop/GitHub Repos/MedEase-PoC-Eval/evaluation/results/lexical_results.json\n"
     ]
    }
   ],
   "source": [
    "with open(output_path, \"w\") as f:\n",
    "    json.dump(results, f, indent=2)\n",
    "\n",
    "print(f\"Saved lexical simplification results to {output_path.resolve()}\")\n"
   ]
  }
 ],
 "metadata": {
  "kernelspec": {
   "display_name": "base",
   "language": "python",
   "name": "python3"
  },
  "language_info": {
   "codemirror_mode": {
    "name": "ipython",
    "version": 3
   },
   "file_extension": ".py",
   "mimetype": "text/x-python",
   "name": "python",
   "nbconvert_exporter": "python",
   "pygments_lexer": "ipython3",
   "version": "3.10.16"
  }
 },
 "nbformat": 4,
 "nbformat_minor": 5
}
