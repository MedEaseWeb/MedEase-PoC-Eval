{
 "cells": [
  {
   "cell_type": "code",
   "execution_count": 7,
   "id": "ebc7623c",
   "metadata": {},
   "outputs": [
    {
     "name": "stderr",
     "output_type": "stream",
     "text": [
      "Formatting all 4 variants with both models: 100%|██████████| 100/100 [2:28:07<00:00, 88.88s/it]  \n"
     ]
    }
   ],
   "source": [
    "import os\n",
    "import sys\n",
    "import json\n",
    "from pathlib import Path\n",
    "from tqdm import tqdm\n",
    "\n",
    "# Setup paths\n",
    "project_root = Path(os.getcwd()).parent\n",
    "model_path = project_root / \"pipelines\" / \"lm_model_classes\"\n",
    "input_path = Path(\"results/syntactic_results.json\")\n",
    "output_path = Path(\"results/formatter_per_variant_output.json\")\n",
    "output_path.parent.mkdir(parents=True, exist_ok=True)\n",
    "\n",
    "# Add model path\n",
    "sys.path.append(str(model_path))\n",
    "\n",
    "# Import model classes\n",
    "from GPT4oAPI import GPT4oAPI\n",
    "from DeepSeekChatAPI import DeepSeekChatAPI\n",
    "\n",
    "# Load data\n",
    "with open(input_path, \"r\", encoding=\"utf-8\") as f:\n",
    "    syntactic_data = json.load(f)\n",
    "\n",
    "# Initialize models\n",
    "gpt4o = GPT4oAPI()\n",
    "deepseek = DeepSeekChatAPI()\n",
    "\n",
    "# Variants to process\n",
    "variant_keys = [\"gpt4o_gpt4o\", \"gpt4o_deepseek\", \"deepseek_gpt4o\", \"deepseek_deepseek\"]\n",
    "\n",
    "# Run formatters on each variant\n",
    "def process_entry(entry):\n",
    "    for key in variant_keys:\n",
    "        original_text = entry[key]\n",
    "\n",
    "        # Run GPT-4o formatter\n",
    "        try:\n",
    "            formatted = gpt4o.format_summarization(original_text)\n",
    "            entry[f\"gpt4o_formatter_on_{key}\"] = formatted\n",
    "        except Exception as e:\n",
    "            entry[f\"gpt4o_formatter_on_{key}\"] = f\"[GPT ERROR] {str(e)}\"\n",
    "\n",
    "        # Run DeepSeek formatter\n",
    "        try:\n",
    "            formatted = deepseek.format_summarization(original_text)\n",
    "            entry[f\"deepseek_formatter_on_{key}\"] = formatted\n",
    "        except Exception as e:\n",
    "            entry[f\"deepseek_formatter_on_{key}\"] = f\"[DeepSeek ERROR] {str(e)}\"\n",
    "\n",
    "    return entry\n",
    "\n",
    "# Run with progress bar\n",
    "results = []\n",
    "for entry in tqdm(syntactic_data, desc=\"Formatting all 4 variants with both models\"):\n",
    "    processed = process_entry(entry)\n",
    "    results.append(processed)"
   ]
  },
  {
   "cell_type": "code",
   "execution_count": 9,
   "id": "d21a3ac9",
   "metadata": {},
   "outputs": [
    {
     "name": "stdout",
     "output_type": "stream",
     "text": [
      "\n",
      "✅ Finished formatting per variant. Saved to: /Users/rolf/Desktop/GitHub Repos/MedEase-PoC-Eval/evaluation/results/formatter_per_variant_output.json\n"
     ]
    }
   ],
   "source": [
    "\n",
    "# Save output\n",
    "with open(output_path, \"w\", encoding=\"utf-8\") as f:\n",
    "    json.dump(results, f, indent=2, ensure_ascii=False)\n",
    "\n",
    "print(f\"\\n✅ Finished formatting per variant. Saved to: {output_path.resolve()}\")"
   ]
  }
 ],
 "metadata": {
  "kernelspec": {
   "display_name": "base",
   "language": "python",
   "name": "python3"
  },
  "language_info": {
   "codemirror_mode": {
    "name": "ipython",
    "version": 3
   },
   "file_extension": ".py",
   "mimetype": "text/x-python",
   "name": "python",
   "nbconvert_exporter": "python",
   "pygments_lexer": "ipython3",
   "version": "3.10.16"
  }
 },
 "nbformat": 4,
 "nbformat_minor": 5
}
