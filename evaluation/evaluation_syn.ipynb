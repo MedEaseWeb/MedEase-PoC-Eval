{
 "cells": [
  {
   "cell_type": "code",
   "execution_count": 2,
   "id": "5d2c4cce",
   "metadata": {},
   "outputs": [],
   "source": [
    "import os\n",
    "import sys\n",
    "import json\n",
    "from pathlib import Path\n",
    "\n",
    "# Set up paths\n",
    "project_root = Path(os.getcwd()).parent\n",
    "model_path = project_root / \"pipelines\" / \"lm_model_classes\"\n",
    "data_path = project_root / \"preprocessing\" / \"500_pairs.json\"\n",
    "output_path = Path(\"results/lexical_results.json\")\n",
    "output_path.parent.mkdir(parents=True, exist_ok=True)\n",
    "\n",
    "# Add model folder to sys.path\n",
    "sys.path.append(str(model_path))\n",
    "\n",
    "# Now import model classes\n",
    "from GPT4oAPI import GPT4oAPI\n",
    "from DeepSeekChatAPI import DeepSeekChatAPI\n",
    "import json\n",
    "from pathlib import Path\n",
    "\n",
    "with open(\"results/lexical_results.json\", \"r\") as f:\n",
    "    lexical_data = json.load(f)\n"
   ]
  },
  {
   "cell_type": "code",
   "execution_count": 3,
   "id": "c56394f3",
   "metadata": {},
   "outputs": [
    {
     "name": "stderr",
     "output_type": "stream",
     "text": [
      "Processing entries 50–99:   0%|          | 0/50 [00:00<?, ?it/s]"
     ]
    },
    {
     "name": "stderr",
     "output_type": "stream",
     "text": [
      "Processing entries 50–99: 100%|██████████| 50/50 [22:22<00:00, 26.84s/it]"
     ]
    },
    {
     "name": "stdout",
     "output_type": "stream",
     "text": [
      "\n",
      "✅ All 100 entries completed in 22.37 minutes\n"
     ]
    },
    {
     "name": "stderr",
     "output_type": "stream",
     "text": [
      "\n"
     ]
    }
   ],
   "source": [
    "import time\n",
    "import json\n",
    "from tqdm import tqdm\n",
    "from joblib import Parallel, delayed\n",
    "from GPT4oAPI import GPT4oAPI\n",
    "from DeepSeekChatAPI import DeepSeekChatAPI\n",
    "\n",
    "# Instantiate models once\n",
    "gpt4o = GPT4oAPI()\n",
    "deepseek = DeepSeekChatAPI()\n",
    "\n",
    "# Prepare job for a single entry\n",
    "def process_one_entry(entry):\n",
    "    gpt_lex = entry[\"gpt4o\"]\n",
    "    deepseek_lex = entry[\"deepseek\"]\n",
    "\n",
    "    def run_variant(name, model, input_text):\n",
    "        return (name, model.syntactic_simplification(input_text))\n",
    "\n",
    "    jobs = [\n",
    "        (\"gpt4o_gpt4o\", gpt4o, gpt_lex),\n",
    "        (\"gpt4o_deepseek\", deepseek, gpt_lex),\n",
    "        (\"deepseek_gpt4o\", gpt4o, deepseek_lex),\n",
    "        (\"deepseek_deepseek\", deepseek, deepseek_lex),\n",
    "    ]\n",
    "\n",
    "    results = Parallel(n_jobs=4, backend=\"threading\")(\n",
    "        delayed(run_variant)(name, model, text) for name, model, text in jobs\n",
    "    )\n",
    "\n",
    "    return {**entry, **{k: v for k, v in results}}\n",
    "\n",
    "# Run over all entries with progress bar\n",
    "start = time.time()\n",
    "syntactic_results = []\n",
    "\n",
    "start_idx = 50\n",
    "end_idx = 100\n",
    "syntactic_results = []\n",
    "\n",
    "for entry in tqdm(lexical_data[start_idx:end_idx], desc=\"Processing entries 50–99\"):\n",
    "    result = process_one_entry(entry)\n",
    "    syntactic_results.append(result)\n",
    "\n",
    "print(f\"\\n✅ All 100 entries completed in {(time.time() - start) / 60:.2f} minutes\")\n",
    "\n",
    "# @TODO: restart process from index 50, save to different file\n"
   ]
  },
  {
   "cell_type": "code",
   "execution_count": 4,
   "id": "2b61a9ec",
   "metadata": {},
   "outputs": [
    {
     "name": "stdout",
     "output_type": "stream",
     "text": [
      "✅ Syntactic-layered results saved to results/syntactic_layer_results.json\n"
     ]
    }
   ],
   "source": [
    "with open(\"results/syntactic_results_batch_2.json\", \"w\") as f:\n",
    "    json.dump(syntactic_results, f, indent=2)\n",
    "\n",
    "print(\"✅ Syntactic-layered results saved to results/syntactic_layer_results.json\")\n"
   ]
  }
 ],
 "metadata": {
  "kernelspec": {
   "display_name": "base",
   "language": "python",
   "name": "python3"
  },
  "language_info": {
   "codemirror_mode": {
    "name": "ipython",
    "version": 3
   },
   "file_extension": ".py",
   "mimetype": "text/x-python",
   "name": "python",
   "nbconvert_exporter": "python",
   "pygments_lexer": "ipython3",
   "version": "3.10.16"
  }
 },
 "nbformat": 4,
 "nbformat_minor": 5
}
