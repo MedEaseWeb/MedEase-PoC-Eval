{
 "cells": [
  {
   "cell_type": "code",
   "execution_count": 2,
   "metadata": {},
   "outputs": [],
   "source": [
    "import json\n",
    "import pandas as pd"
   ]
  },
  {
   "cell_type": "code",
   "execution_count": null,
   "metadata": {},
   "outputs": [
    {
     "name": "stdout",
     "output_type": "stream",
     "text": [
      "174096\n",
      "104889\n"
     ]
    }
   ],
   "source": [
    "df = pd.read_json(\"./500_pairs.json\")\n",
    "\n",
    "'''\n",
    "    Get average token count for both target and source.\n",
    "'''\n",
    "\n",
    "def tokenize(text):\n",
    "    return text.split(\" \")\n",
    "\n",
    "# print(df[\"source\"][0])\n",
    "\n",
    "tkn_len_src = 0\n",
    "tkn_len_trg = 0\n",
    "\n",
    "for source_report in df[\"source\"]:\n",
    "    tkn_len_src += len(tokenize(source_report))\n",
    "    \n",
    "for target_report in df[\"target\"]:\n",
    "    tkn_len_trg += len(tokenize(target_report))\n",
    "    \n",
    "    \n",
    "print(tkn_len_src)\n",
    "print(tkn_len_trg)\n",
    "a"
   ]
  }
 ],
 "metadata": {
  "kernelspec": {
   "display_name": "base",
   "language": "python",
   "name": "python3"
  },
  "language_info": {
   "codemirror_mode": {
    "name": "ipython",
    "version": 3
   },
   "file_extension": ".py",
   "mimetype": "text/x-python",
   "name": "python",
   "nbconvert_exporter": "python",
   "pygments_lexer": "ipython3",
   "version": "3.10.16"
  }
 },
 "nbformat": 4,
 "nbformat_minor": 2
}
