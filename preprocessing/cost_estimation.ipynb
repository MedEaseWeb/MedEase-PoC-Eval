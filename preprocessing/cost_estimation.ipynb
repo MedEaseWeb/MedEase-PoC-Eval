{
 "cells": [
  {
   "cell_type": "code",
   "execution_count": null,
   "metadata": {},
   "outputs": [
    {
     "name": "stderr",
     "output_type": "stream",
     "text": [
      "[nltk_data] Downloading package punkt to /Users/rolf/nltk_data...\n",
      "[nltk_data]   Package punkt is already up-to-date!\n"
     ]
    },
    {
     "data": {
      "text/plain": [
       "True"
      ]
     },
     "execution_count": 28,
     "metadata": {},
     "output_type": "execute_result"
    }
   ],
   "source": [
    "import json\n",
    "import pandas as pd"
   ]
  },
  {
   "cell_type": "code",
   "execution_count": null,
   "metadata": {},
   "outputs": [
    {
     "name": "stdout",
     "output_type": "stream",
     "text": [
      "272\n",
      "['This', 'systematic', 'review', 'focused', 'on', 'randomised', 'studies', 'comparing', 'the', 'effectiveness', 'of', 'myeloablative', 'therapy', 'with', 'conventional', 'therapy', 'in', 'children', 'with', 'high-risk', 'neuroblastoma.', 'The', 'authors', 'found', 'three', 'studies', 'including', '739', 'patients.', 'These', 'studies', 'provide', 'evidence', 'that', 'myeloablative', 'therapy', 'improves', 'event-free', 'survival', '(that', 'is,', 'the', 'time', 'until', 'a', 'certain', 'event,', 'for', 'example', 'tumour', 'progression,', 'the', 'development', 'of', 'a', 'second', 'tumour,', 'or', 'death', 'from', 'any', 'cause', 'occurs).', 'For', 'overall', 'survival', '(that', 'is,', 'the', 'time', 'until', 'a', 'patient', 'dies', 'from', 'any', 'cause,', 'so', 'not', 'only', 'from', 'the', 'tumour', 'or', 'its', 'treatment,', 'but', 'for', 'example,', 'also', 'from', 'a', 'car', 'accident)', 'there', 'is', 'no', 'evidence', 'of', 'a', 'better', 'outcome', 'in', 'patients', 'treated', 'with', 'myeloablative', 'therapy.', 'Side', 'effects', 'such', 'as', 'renal', '(kidney)', 'effects,', 'interstitial', 'pneumonitis', '(a', 'type', 'of', 'lung', 'disease)', 'and', 'veno-occlusive', 'disease', '(a', 'condition', 'in', 'which', 'some', 'of', 'the', 'small', 'veins', 'in', 'the', 'liver', 'are', 'obstructed)', 'were', 'more', 'common', 'in', 'patients', 'treated', 'with', 'myeloablative', 'therapy', 'than', 'conventional', 'chemotherapy.', 'It', 'should', 'be', 'noted', 'that', 'this', 'systematic', 'review', 'only', 'allows', 'a', 'conclusion', 'on', 'the', 'concept', 'of', 'myeloablative', 'therapy;', 'no', 'conclusions', 'regarding', 'the', 'best', 'treatment', 'strategy', 'with', 'regard', 'to,', 'for', 'example,', 'types', 'of', 'chemotherapeutic', 'agents', 'and', 'the', 'use', 'of', 'radiation', 'therapy,', 'could', 'be', 'made.', 'More', 'high', 'quality', 'research', 'is', 'needed.', 'It', 'should', 'be', 'noted', 'that', 'recently', 'the', 'age', 'cut-off', 'for', 'high-risk', 'disease', 'was', 'changed', 'from', 'one', 'year', 'to', '18', 'months.', 'As', 'a', 'result', 'it', 'is', 'possible', 'that', 'patients', 'with', 'what', 'is', 'now', 'classified', 'as', 'intermediate-risk', 'disease', 'were', 'included', 'in', 'the', 'high-risk', 'groups.', 'Consequently', 'the', 'relevance', 'of', 'the', 'results', 'of', 'these', 'studies', 'to', 'the', 'current', 'practice', 'can', 'be', 'questioned.', 'Survival', 'rates', 'may', 'be', 'overestimated', 'due', 'to', 'the', 'inclusion', 'of', 'patients', 'with', 'intermediate-risk', 'disease.']\n"
     ]
    }
   ],
   "source": [
    "df = pd.read_json(\"./500_pairs.json\")\n",
    "\n",
    "'''\n",
    "    Get average token count for both target and source.\n",
    "'''\n",
    "dm = df[\"target\"][0].split(\" \") # tknz\n",
    "print(len(dm))"
   ]
  }
 ],
 "metadata": {
  "kernelspec": {
   "display_name": "base",
   "language": "python",
   "name": "python3"
  },
  "language_info": {
   "codemirror_mode": {
    "name": "ipython",
    "version": 3
   },
   "file_extension": ".py",
   "mimetype": "text/x-python",
   "name": "python",
   "nbconvert_exporter": "python",
   "pygments_lexer": "ipython3",
   "version": "3.10.16"
  }
 },
 "nbformat": 4,
 "nbformat_minor": 2
}
